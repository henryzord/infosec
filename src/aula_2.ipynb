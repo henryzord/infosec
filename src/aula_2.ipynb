{
 "cells": [
  {
   "cell_type": "markdown",
   "id": "b2acac19",
   "metadata": {
    "slideshow": {
     "slide_type": "slide"
    }
   },
   "source": [
    "# Segurança da Informação\n",
    "\n",
    "## Professor Henry Cagnini\n",
    "\n",
    "### Agenda\n",
    "\n",
    "* Plano de aula\n",
    "* O que é Segurança da Informação? \n",
    "    * Por que usá-la?\n",
    "    * Para que serve a Segurança da Informação?\n",
    "    * Quem usa?\n",
    "* Segurança da Informação\n",
    "    * Princípios Fundamentais de Segurança\n",
    "    * Parcelas da Segurança da Informação\n",
    "    * Níveis da Segurança da Informação\n",
    "* Estudos de caso\n",
    "* Exercícios\n",
    "* Bibliografia"
   ]
  },
  {
   "cell_type": "markdown",
   "id": "3297d44f",
   "metadata": {
    "slideshow": {
     "slide_type": "slide"
    }
   },
   "source": [
    "# Plano de Aula\n",
    "\n",
    "## Versão resumida \n",
    "\n",
    "Outras informações estão disponíveis no documento do [plano de aula](https://docs.google.com/document/d/1AJaIj5O3qIZL6uXIfqX5CurkE5xsUjFl6nPNYEADztM/edit?usp=sharing).\n",
    "\n",
    "* **Público-alvo:** alunos de Graduação de cursos de Ciências e Engenharias em que o objetivo do curso seja desenvolver softwares ou hardwares\n",
    "* **Pré-requisitos:** Nenhum, mas algum conhecimento de Tecnologia da Informação (como manusear notebooks, desktops, smartphones) é desejável\n",
    "* **Objetivos:** Sensibilizar o público da importância da Segurança da Informação na lógica de negócio de organizações. Introduzir os princípios fundamentais da Segurança da Informação. Introduzir os níveis de Segurança da Informação. Introduzir as parcelas da Segurança da Informação.\n",
    "* **Duração:** 40 a 50 minutos.\n",
    "* **Recursos didáticos:** Projetor, quadro branco, espaço físico"
   ]
  },
  {
   "attachments": {},
   "cell_type": "markdown",
   "id": "a47f92e2",
   "metadata": {
    "slideshow": {
     "slide_type": "slide"
    }
   },
   "source": [
    "# O que é Segurança da Informação?\n",
    "\n",
    "* É a área da Ciência da Computação que visa proteger computadores e redes de acesso não-autorizado por terceiros\n",
    "* Segundo (Machado, 2014), a Segurança da Informação preocupa-se com:\n",
    "    * Gestão de Riscos\n",
    "    * Políticas de Segurança\n",
    "    * Educação de Segurança em uma organização\n",
    "\n",
    "<center>\n",
    "<img src=\"img/infosec_1.jpg\" alt=\"infosec 1\" width=\"300px\" >\n",
    "</center>\n",
    "\n",
    "*Imagem adaptada de [Cybersecurity vs. Information Security](https://www.elmhurst.edu/blog/cybersecurity-vs-information-security/)*"
   ]
  },
  {
   "cell_type": "markdown",
   "id": "f2b88746",
   "metadata": {
    "slideshow": {
     "slide_type": "slide"
    }
   },
   "source": [
    "## Por que usá-la?\n",
    "\n",
    "O mundo hoje em dia é cada vez mais digital!\n",
    "\n",
    "<center>\n",
    "<img src=\"img/data_usage.png\" alt=\"data usage\" width=\"700px\" >\n",
    "</center>\n",
    "\n",
    "*Imagem adaptada de [Global Overview Report 2022](https://datareportal.com/reports/digital-2022-global-overview-report)*"
   ]
  },
  {
   "cell_type": "markdown",
   "id": "c1ac375c",
   "metadata": {
    "slideshow": {
     "slide_type": "slide"
    }
   },
   "source": [
    "## Para que serve a Segurança da Informação?\n",
    "\n",
    "* Garantir que a troca de mensagens não será interrompida quando mais necessária\n",
    "* Garantir que as informações de negócio não estão disponíveis a pessoas não-autorizadas\n",
    "* Garantir que os dados não são modificados, alterados ou destruídos acidentalmente ou maliciosamente"
   ]
  },
  {
   "cell_type": "markdown",
   "id": "ec43047f",
   "metadata": {
    "slideshow": {
     "slide_type": "slide"
    }
   },
   "source": [
    "## Quem usa?\n",
    "\n",
    "Qualquer organização que se preze deve empregar conceitos de Segurança da Informação em seus negócios!\n",
    "\n",
    "* Empresas de Tecnologia (startups, big tech, Google, Facebook, Microsoft)\n",
    "* Empresas que não são de tecnologia (pequenos negócios, varejo, restaurantes)\n",
    "* Órgãos Públicos (Receita Federal, Banco Central, UFSM, Ministério da Saúde)\n",
    "* Organizações não-governamentais (Médicos sem Fronteiras, Projeto Quatro Patas)\n",
    "* Indivíduos (eu, você??)\n",
    "\n",
    "\n"
   ]
  },
  {
   "attachments": {},
   "cell_type": "markdown",
   "id": "cf66e9d0",
   "metadata": {
    "slideshow": {
     "slide_type": "slide"
    }
   },
   "source": [
    "# Segurança da Informação\n",
    "\n",
    "É dividida em **Princípios**, **Níveis** e **Parcelas**\n",
    "\n",
    "<center>\n",
    "<img src=\"img/diagrama_infosec.png\" alt=\"diagrama infosec\" width=\"300px\" >\n",
    "</center>\n",
    "    \n",
    "*Imagem adaptada de [Information Security](https://en.wikipedia.org/wiki/Information_security)*"
   ]
  },
  {
   "cell_type": "markdown",
   "id": "ffc23c97",
   "metadata": {
    "slideshow": {
     "slide_type": "slide"
    }
   },
   "source": [
    "## Princípios Fundamentais de Segurança\n",
    "\n",
    "São três, também conhecidos como a *tríade CIA* (Machado, 2014).\n",
    "\n",
    "* Confidencialidade\n",
    "* Integridade\n",
    "* Disponibilidade\n",
    "\n",
    "<center>\n",
    "<img src=\"img/diagrama_infosec.png\" alt=\"diagrama infosec\" width=\"200px\" >\n",
    "</center>\n",
    "    \n",
    "*Imagem adaptada de [Information Security](https://en.wikipedia.org/wiki/Information_security)*"
   ]
  },
  {
   "cell_type": "markdown",
   "id": "de8018b1",
   "metadata": {
    "slideshow": {
     "slide_type": "slide"
    }
   },
   "source": [
    "## Princípios Fundamentais de Segurança\n",
    "\n",
    "### Confidencialidade\n",
    "\n",
    "* 📝 **O que:** Garantir que as informações são vistas apenas pelas entidades originárias e destinatárias das mensagens\n",
    "* ⚠️ **Ameaças:** Publicação de dados pessoais ou organizacionais\n",
    "* 🚫 **Prejuízos:** perda de confiança no negócio, prejuízos pessoais ou econômicos, perda de competitividade\n",
    "* 🧰 **Como:** uso de criptografia no armazenamento e troca de mensagens, controle de acesso"
   ]
  },
  {
   "cell_type": "markdown",
   "id": "09cecf67",
   "metadata": {
    "slideshow": {
     "slide_type": "slide"
    }
   },
   "source": [
    "## Princípios Fundamentais de Segurança\n",
    "\n",
    "### Integridade\n",
    "\n",
    "* 📝 **O que:** Garantir que as informações não foram modificadas ou destruídas por entidades que não pertencem ao fluxo original da troca de mensagens\n",
    "* ⚠️ **Ameaças:** Desastres naturais, destruição de informações acidentalmente ou intencionalmente\n",
    "* 🚫 **Prejuízos:** interrupção na prestação de serviços\n",
    "* 🧰 **Como:** Controle de acesso, backup, redundância"
   ]
  },
  {
   "cell_type": "markdown",
   "id": "32d3739e",
   "metadata": {
    "slideshow": {
     "slide_type": "slide"
    }
   },
   "source": [
    "## Princípios Fundamentais de Segurança\n",
    "\n",
    "### Disponibilidade\n",
    "\n",
    "* 📝 **O que:** Garantir a disponibilidade de dados e informações quando necessários, de maneira rápida e e acessível\n",
    "* ⚠️ **Ameaças:** má-manutenção de software e hardware, ataques maliciosos (Denial of Service), ou desastres naturais \n",
    "* 🚫 **Prejuízos:** interrupção na operação de serviços, acarretando em perda econômica para organizações \n",
    "* 🧰 **Como:** Redundância, planejamento de recuperação, manutenção preventiva, monitoramento\n"
   ]
  },
  {
   "cell_type": "markdown",
   "id": "6ed6c708",
   "metadata": {
    "slideshow": {
     "slide_type": "slide"
    }
   },
   "source": [
    "## Parcelas da Segurança da Informação\n",
    "\n",
    "Também são três: \n",
    "\n",
    "* Hardware\n",
    "* Software\n",
    "* Comunicações\n",
    "\n",
    "<center>\n",
    "<img src=\"img/diagrama_infosec.png\" alt=\"diagrama infosec\" width=\"200px\" >\n",
    "</center>\n",
    "    \n",
    "*Imagem adaptada de [Information Security](https://en.wikipedia.org/wiki/Information_security)*"
   ]
  },
  {
   "cell_type": "markdown",
   "id": "90ed064d",
   "metadata": {
    "slideshow": {
     "slide_type": "slide"
    }
   },
   "source": [
    "## Parcelas da Segurança da Informação\n",
    "\n",
    "### Hardware\n",
    "\n",
    "* 📝 **O que:** Garantir a segurança do hardware empregado na organização\n",
    "* ⚠️ **Ameaças:** Dano físico, roubo, firmware malicioso, ataques à cadeia de suprimento\n",
    "* 🚫 **Prejuízos:** Perda ou alteração de dados e informações, comprometendo principalmente a integridade, e possivelmente a disponibilidade\n",
    "* 🧰 **Como:** Segurança física (limite de acesso aos dispositivos), manutenção preventiva, treinamento de pessoal no acesso a hardware, redundância"
   ]
  },
  {
   "cell_type": "markdown",
   "id": "6be33179",
   "metadata": {
    "slideshow": {
     "slide_type": "slide"
    }
   },
   "source": [
    "## Parcelas da Segurança da Informação\n",
    "\n",
    "### Software\n",
    "\n",
    "* 📝 **O que:** garantir a segurança do software empregado na organização\n",
    "* ⚠️ **Ameaças:** malware, _SQL injection_, vulnerabilidades como compartilhamento de senhas e usuários, falta de atualizações\n",
    "* 🚫 **Prejuízos:** roubo de informações sensíveis (quebra da confidencialidade), alteração ou destruição de informações (quebra da integridade e possivelmente da disponibilidade)\n",
    "* 🧰 **Como:** atualização de softwares, uso de criptografia, controle de acesso, treinamento de pessoal no uso de software"
   ]
  },
  {
   "cell_type": "markdown",
   "id": "1a3d2dda",
   "metadata": {
    "slideshow": {
     "slide_type": "slide"
    }
   },
   "source": [
    "## Parcelas da Segurança da Informação\n",
    "\n",
    "### Comunicações\n",
    "\n",
    "* 📝 **O que:** Garantir a segurança das informações trocadas entre entidades em uma organização\n",
    "* ⚠️ **Ameaças:** escutas (terceiros não-autorizados lendo mensagens), ataque _man-in-the-middle_ (alteração de mensagens em seu tráfego), ataque _denial of service_ (sobrecarregar uma entidade com requisições, forçando interrupção de serviços)\n",
    "* 🚫 **Prejuízos:** Perda da confidencialidade (mensagens interceptadas), perda da disponibilidade (serviços interrompidos)\n",
    "* 🧰 **Como:** uso de criptografia, uso de _firewalls_, controle de acesso, treinamento de pessoal"
   ]
  },
  {
   "cell_type": "markdown",
   "id": "c25e421d",
   "metadata": {
    "slideshow": {
     "slide_type": "slide"
    }
   },
   "source": [
    "## Níveis da Segurança da Informação\n",
    "\n",
    "Novamente são três: \n",
    "\n",
    "* Físico\n",
    "* Pessoal\n",
    "* Organizacional\n",
    "\n",
    "<center>\n",
    "<img src=\"img/diagrama_infosec.png\" alt=\"diagrama infosec\" width=\"200px\" >\n",
    "</center>\n",
    "    \n",
    "*Imagem adaptada de [Information Security](https://en.wikipedia.org/wiki/Information_security)*"
   ]
  },
  {
   "cell_type": "markdown",
   "id": "a3eca4f1",
   "metadata": {
    "slideshow": {
     "slide_type": "slide"
    }
   },
   "source": [
    "## Níveis da Segurança da Informação\n",
    "\n",
    "### Físico\n",
    "\n",
    "* 📝 **O que:** Garantir a segurança do equipamento físico de uma organização\n",
    "* ⚠️ **Ameaças:** Roubo, modificação não-autorizada, desastres naturais, quedas de energia\n",
    "* 🚫 **Prejuízos:** Interrupção na disponibilidade de serviços, possível perda de confidencialidade e integridade\n",
    "* 🧰 **Como:** controle de acesso, redundância no armazenamento de informações, redundância nos dispositivos elétricos (e.g. geradores)"
   ]
  },
  {
   "cell_type": "markdown",
   "id": "cda4cbd9",
   "metadata": {
    "slideshow": {
     "slide_type": "slide"
    }
   },
   "source": [
    "## Níveis da Segurança da Informação\n",
    "\n",
    "### Pessoal\n",
    "\n",
    "* 📝 **O que:** Garantir que o pessoal de uma organização esteja a par das melhores práticas para Segurança da Informação\n",
    "* ⚠️ **Ameaças:** engenharia social, roubo de dados pessoais (e.g. senhas de acesso), acesso não-autorizado\n",
    "* 🚫 **Prejuízos:** quebra de confidencialidade (acesso não-autorizado)\n",
    "* 🧰 **Como:** treinamento de pessoal, controle de acesso"
   ]
  },
  {
   "cell_type": "markdown",
   "id": "2b4554ee",
   "metadata": {
    "slideshow": {
     "slide_type": "slide"
    }
   },
   "source": [
    "## Níveis da Segurança da Informação\n",
    "\n",
    "### Organizacional\n",
    "\n",
    "* 📝 **O que:** garantir a segurança a nível de organização\n",
    "* ⚠️ **Ameaças:** ataques internos, ataques externos, falta de política de segurança eficiente, falta de treinamento de pessoal\n",
    "* 🚫 **Prejuízos:** quebra de confidencialidade (extravio de informações restritas), perdas econômicas, inoperância de serviços\n",
    "* 🧰 **Como:** análise de fatores de risco da organização, implementação de controle de acesso, treinamento de pessoal, testes de penetração e auditorias"
   ]
  },
  {
   "cell_type": "markdown",
   "id": "64a10673",
   "metadata": {
    "slideshow": {
     "slide_type": "slide"
    }
   },
   "source": [
    "# Estudos de caso\n",
    "\n",
    "## Caso \\#1: Computador do João\n",
    "\n",
    "Analise a proposição abaixo. Depois, preencha a tabela, identificando a ameaça, e os princípios, parcelas e níveis que estão sendo atacados.\n",
    "\n",
    "<center>\n",
    "<img src=\"img/postit_password.jpg\" alt=\"postit password\" width=\"300px\" >\n",
    "</center>\n",
    "\n",
    "*Imagem adaptada de [American Banker](https://www.americanbanker.com/news/big-tech-is-building-a-passwordless-future-banks-want-to-join-in)*"
   ]
  },
  {
   "cell_type": "markdown",
   "id": "bf3d2f2c",
   "metadata": {
    "slideshow": {
     "slide_type": "slide"
    }
   },
   "source": [
    "### Exercício\n",
    "\n",
    "> João é um rapaz muito avoado, e não presta muita atenção nas coisas ao seu redor. No laboratório em que faz estágio, João deixa a senha do computador anotada em um _post-it_, colado no monitor. \n",
    "\n",
    "> Um certo dia, João descobriu que alguém tinha acessado seu computador sem sua permissão. Todos os seus arquivos pessoais haviam sido apagados!\n",
    "\n",
    "> Ao conversar com seus colegas, João descobriu que o Departamento Técnico da Universidade tinha formatado sua máquina, sem seu conhecimento.\n",
    "\n",
    "| Categoria            | Resposta |\n",
    "|:---------------------|:---------|\n",
    "| Ameaças              |          |\n",
    "| Princípios atacados  |          |\n",
    "| Parcelas atacadas    |          |\n",
    "| Níveis atacados      |          |"
   ]
  },
  {
   "cell_type": "markdown",
   "id": "0b5e81da",
   "metadata": {
    "slideshow": {
     "slide_type": "slide"
    }
   },
   "source": [
    "### Resposta\n",
    "\n",
    "> João é um rapaz muito avoado, e não presta muita atenção nas coisas ao seu redor. No laboratório em que faz estágio, João deixa a senha do computador anotada em um _post-it_, colado no monitor. \n",
    "\n",
    "> Um certo dia, João descobriu que alguém tinha acessado seu computador sem sua permissão. Todos os seus arquivos pessoais haviam sido apagados!\n",
    "\n",
    "> Ao conversar com seus colegas, João descobriu que o Departamento Técnico da Universidade tinha formatado sua máquina, sem seu conhecimento.\n",
    "\n",
    "| Categoria            |                                          Resposta |\n",
    "|:---------------------|:--------------------------------------------------|\n",
    "| Ameaças              |              acesso não-autorizado, ataque físico |\n",
    "| Princípios atacados  |   confidencialidade, integridade, disponibilidade |\n",
    "| Parcelas atacadas    |                                          software |\n",
    "| Níveis atacados      |                                   físico, pessoal |"
   ]
  },
  {
   "cell_type": "markdown",
   "id": "d212fe90",
   "metadata": {
    "slideshow": {
     "slide_type": "slide"
    }
   },
   "source": [
    "### Proposta\n",
    "\n",
    "O que João poderia fazer para melhorar a segurança no seu ambiente de trabalho?"
   ]
  },
  {
   "cell_type": "markdown",
   "id": "c14bf195",
   "metadata": {
    "slideshow": {
     "slide_type": "fragment"
    }
   },
   "source": [
    "* Não disponibilizar uma informação confidencial publicamente!\n",
    "* Usar uma senha forte\n",
    "* Usar um software para anotar senhas"
   ]
  },
  {
   "cell_type": "markdown",
   "id": "ecb4b5e3",
   "metadata": {
    "slideshow": {
     "slide_type": "slide"
    }
   },
   "source": [
    "## Caso \\#2: Microchips chineses\n",
    "\n",
    "Primeiro, assista o [vídeo](https://www.youtube.com/watch?v=Uh4QGey2zTk) abaixo. Depois, responda as perguntas do próximo slide.\n"
   ]
  },
  {
   "cell_type": "code",
   "execution_count": 6,
   "id": "6991ba41",
   "metadata": {
    "slideshow": {
     "slide_type": "fragment"
    }
   },
   "outputs": [
    {
     "data": {
      "image/jpeg": "[encoded data removed]",
      "text/html": [
       "\n",
       "        <iframe\n",
       "            width=\"500\"\n",
       "            height=\"300\"\n",
       "            src=\"https://www.youtube.com/embed/Uh4QGey2zTk\"\n",
       "            frameborder=\"0\"\n",
       "            allowfullscreen\n",
       "            \n",
       "        ></iframe>\n",
       "        "
      ],
      "text/plain": [
       "<IPython.lib.display.YouTubeVideo at 0x246ee920a90>"
      ]
     },
     "execution_count": 6,
     "metadata": {},
     "output_type": "execute_result"
    }
   ],
   "source": [
    "from IPython.display import YouTubeVideo\n",
    "YouTubeVideo('Uh4QGey2zTk', width=500, height=300)"
   ]
  },
  {
   "cell_type": "markdown",
   "id": "b427d6bf",
   "metadata": {
    "slideshow": {
     "slide_type": "slide"
    }
   },
   "source": [
    "### Exercício\n",
    "\n",
    "**Resumo do vídeo:**\n",
    "\n",
    "> Um funcionário de uma empresa Holandesa emigrou para a China, levando segredos industriais de software de produção de microprocessadores consigo. Pior, este funcionário recrutou outros ex-funcionários da mesma empresa holandesa para trabalhar em duas empresas que ele fundou, uma nos Estados Unidos e outra na China.\n",
    "\n",
    "> O evento causou um acidente diplomático entre China e Estados Unidos, com desdobramentos como impedimento de companias americanas de vender softwares e hardware de manufatura de microprocessadores para empresas chinesas. O funcionário em questão está sendo processado nos EUA.\n",
    "\n",
    "| Categoria            | Resposta |\n",
    "|:---------------------|:---------|\n",
    "| Ameaças              |          |\n",
    "| Princípios atacados  |          |\n",
    "| Parcelas atacadas    |          |\n",
    "| Níveis atacados      |          |"
   ]
  },
  {
   "cell_type": "markdown",
   "id": "86881544",
   "metadata": {
    "slideshow": {
     "slide_type": "slide"
    }
   },
   "source": [
    "### Resposta\n",
    "\n",
    "**Resumo do vídeo:**\n",
    "\n",
    "> Um funcionário de uma empresa Holandesa emigrou para a China, levando segredos industriais de software de produção de microprocessadores consigo. Pior, este funcionário recrutou outros ex-funcionários da mesma empresa holandesa para trabalhar em duas empresas que ele fundou, uma nos Estados Unidos e outra na China.\n",
    "\n",
    "> O evento causou um acidente diplomático entre China e Estados Unidos, com desdobramentos como impedimento de companias americanas de vender softwares e hardware de manufatura de microprocessadores para empresas chinesas. O funcionário em questão está sendo processado nos EUA.\n",
    "\n",
    "| Categoria            |                           Resposta |\n",
    "|:---------------------|:-----------------------------------|\n",
    "| Ameaças              | roubo de informações confidenciais, agente malicioso interno |\n",
    "| Princípios atacados  |                  confidencialidade |\n",
    "| Parcelas atacadas    |                       comunicações |\n",
    "| Níveis atacados      |            pessoal, organizacional |"
   ]
  },
  {
   "cell_type": "markdown",
   "id": "40c57cde",
   "metadata": {
    "slideshow": {
     "slide_type": "slide"
    }
   },
   "source": [
    "### Proposta\n",
    "\n",
    "O que a empresa holandesa poderia ter feito para evitar o vazamento de informações confidenciais?"
   ]
  },
  {
   "cell_type": "markdown",
   "id": "e8ff7905",
   "metadata": {
    "slideshow": {
     "slide_type": "fragment"
    }
   },
   "source": [
    "* _Background-checking_: entrevista extensiva para compreender o passado do funcionário, suas conexões e intenções\n",
    "* Auditoria de segurança na empresa"
   ]
  },
  {
   "cell_type": "markdown",
   "id": "57131655",
   "metadata": {
    "slideshow": {
     "slide_type": "slide"
    }
   },
   "source": [
    "# Exercícios\n",
    "\n",
    "Alguns dos exercícios foram adaptados do fim do Capítulo 1 do livro Segurança da Informação: Princípios e controle de Ameaças:\n",
    "\n",
    "* Pesquise em livros, jornais, revistas e na internet um caso recente de indisponibilidade de informações, perda de confidencialidade ou invasão de sites, e faça uma descrição resumida de três parágrafos sobre o fato ocorrido e quais danos foram causados por violação destes princípios de segurança da informação.\n",
    "* Ao usarmos autenticação em duas etapas, que tipo de ameaças estamos mitigando?"
   ]
  },
  {
   "attachments": {},
   "cell_type": "markdown",
   "id": "6dbca2ce",
   "metadata": {
    "slideshow": {
     "slide_type": "slide"
    }
   },
   "source": [
    "# Bibliografia\n",
    "\n",
    "Capítulos 1 e 3 do livro Segurança da Informação: Princípios e controle de Ameaças.\n",
    "\n",
    "<center>\n",
    "<img src=\"img/livro.jpg\" alt=\"livro\" width=\"300px\" >\n",
    "</center>\n"
   ]
  }
 ],
 "metadata": {
  "celltoolbar": "Slideshow",
  "kernelspec": {
   "display_name": "Python 3 (ipykernel)",
   "language": "python",
   "name": "python3"
  },
  "language_info": {
   "codemirror_mode": {
    "name": "ipython",
    "version": 3
   },
   "file_extension": ".py",
   "mimetype": "text/x-python",
   "name": "python",
   "nbconvert_exporter": "python",
   "pygments_lexer": "ipython3",
   "version": "3.9.7"
  }
 },
 "nbformat": 4,
 "nbformat_minor": 5
}
