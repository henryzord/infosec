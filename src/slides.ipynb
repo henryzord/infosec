{
 "cells": [
  {
   "cell_type": "markdown",
   "id": "b2acac19",
   "metadata": {
    "slideshow": {
     "slide_type": "slide"
    }
   },
   "source": [
    "# Segurança da Informação\n",
    "\n",
    "## Professor Henry Cagnini\n",
    "\n",
    "### Agenda\n",
    "\n",
    "* Plano de aula\n",
    "* Tópico 1\n",
    "* Tópico 2\n",
    "* Tópico 3\n",
    "* Exemplo prático\n",
    "* Exercícios\n",
    "* Bibliografia"
   ]
  },
  {
   "cell_type": "markdown",
   "id": "3297d44f",
   "metadata": {
    "slideshow": {
     "slide_type": "slide"
    }
   },
   "source": [
    "# Plano de Aula\n",
    "\n",
    "## Versão resumida \n",
    "\n",
    "Outras informações estão disponíveis no documento do [plano de aula]().\n",
    "\n",
    "* **Público-alvo:**\n",
    "* **Pré-requisitos:**\n",
    "* **Objetivos:**\n",
    "* **Duração:**\n",
    "* **Recursos didáticos:**"
   ]
  },
  {
   "cell_type": "markdown",
   "id": "847a068e",
   "metadata": {
    "slideshow": {
     "slide_type": "slide"
    }
   },
   "source": [
    "# O que é Segurança da Informação?\n",
    "\n",
    "* Preocupa-se com "
   ]
  },
  {
   "cell_type": "markdown",
   "id": "9f358eaa",
   "metadata": {
    "slideshow": {
     "slide_type": "slide"
    }
   },
   "source": [
    "# Para que serve a Segurança da Informação?"
   ]
  },
  {
   "cell_type": "markdown",
   "id": "662391ef",
   "metadata": {
    "slideshow": {
     "slide_type": "slide"
    }
   },
   "source": [
    "# Quem usa?"
   ]
  },
  {
   "cell_type": "markdown",
   "id": "0dfa129d",
   "metadata": {
    "slideshow": {
     "slide_type": "slide"
    }
   },
   "source": []
  },
  {
   "cell_type": "markdown",
   "id": "6615b4a5",
   "metadata": {
    "slideshow": {
     "slide_type": "slide"
    }
   },
   "source": []
  },
  {
   "cell_type": "markdown",
   "id": "57131655",
   "metadata": {
    "slideshow": {
     "slide_type": "slide"
    }
   },
   "source": [
    "# Exercícios\n",
    "\n",
    "Faça os seguintes exercícios:\n",
    "\n",
    "* Primeiro exercício\n",
    "* Segundo exercício"
   ]
  },
  {
   "cell_type": "markdown",
   "id": "6dbca2ce",
   "metadata": {
    "slideshow": {
     "slide_type": "slide"
    }
   },
   "source": [
    "# Bibliografia\n",
    "\n",
    "* [Primeiro item]()\n",
    "* [Segundo item]()"
   ]
  }
 ],
 "metadata": {
  "celltoolbar": "Slideshow",
  "kernelspec": {
   "display_name": "Python 3 (ipykernel)",
   "language": "python",
   "name": "python3"
  },
  "language_info": {
   "codemirror_mode": {
    "name": "ipython",
    "version": 3
   },
   "file_extension": ".py",
   "mimetype": "text/x-python",
   "name": "python",
   "nbconvert_exporter": "python",
   "pygments_lexer": "ipython3",
   "version": "3.9.7"
  }
 },
 "nbformat": 4,
 "nbformat_minor": 5
}
